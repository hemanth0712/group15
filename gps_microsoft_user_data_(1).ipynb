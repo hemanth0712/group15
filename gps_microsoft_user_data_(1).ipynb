{
  "cells": [
    {
      "cell_type": "code",
      "execution_count": null,
      "id": "759b1b06",
      "metadata": {
        "papermill": {
          "duration": 0.006568,
          "end_time": "2023-05-03T15:27:54.250572",
          "exception": false,
          "start_time": "2023-05-03T15:27:54.244004",
          "status": "completed"
        },
        "tags": [],
        "id": "759b1b06"
      },
      "outputs": [],
      "source": []
    },
    {
      "cell_type": "code",
      "execution_count": null,
      "id": "b3d58163",
      "metadata": {
        "_cell_guid": "b1076dfc-b9ad-4769-8c92-a6c4dae69d19",
        "_uuid": "8f2839f25d086af736a60e9eeb907d3b93b6e0e5",
        "execution": {
          "iopub.execute_input": "2023-05-03T15:27:54.265022Z",
          "iopub.status.busy": "2023-05-03T15:27:54.264182Z",
          "iopub.status.idle": "2023-05-03T15:28:03.446643Z",
          "shell.execute_reply": "2023-05-03T15:28:03.445333Z"
        },
        "papermill": {
          "duration": 9.192888,
          "end_time": "2023-05-03T15:28:03.449635",
          "exception": false,
          "start_time": "2023-05-03T15:27:54.256747",
          "status": "completed"
        },
        "tags": [],
        "id": "b3d58163"
      },
      "outputs": [],
      "source": [
        "\n",
        "import numpy as np\n",
        "import matplotlib.pyplot as plt\n",
        "import pandas as pd\n",
        "import tensorflow as tf\n",
        "from tensorflow.keras.models import Sequential\n",
        "from tensorflow.keras.layers import Dense\n",
        "from tensorflow.keras.layers import LSTM, Bidirectional, Dropout\n",
        "from sklearn.preprocessing import MinMaxScaler\n",
        "from sklearn.metrics import mean_squared_error\n",
        "\n",
        "\n",
        "from keras.models import Sequential\n",
        "from keras.layers import Dense\n",
        "from keras.wrappers.scikit_learn import KerasClassifier\n",
        "from sklearn.model_selection import KFold\n",
        "from sklearn.model_selection import cross_val_score\n",
        "import numpy as np\n",
        "import pandas as pd\n",
        "from sklearn.preprocessing import LabelEncoder\n",
        "from sklearn.preprocessing import OneHotEncoder\n",
        "\n",
        "\n"
      ]
    },
    {
      "cell_type": "code",
      "execution_count": null,
      "id": "a85ed0e2",
      "metadata": {
        "execution": {
          "iopub.execute_input": "2023-05-03T15:28:03.464399Z",
          "iopub.status.busy": "2023-05-03T15:28:03.463693Z",
          "iopub.status.idle": "2023-05-03T15:28:03.651210Z",
          "shell.execute_reply": "2023-05-03T15:28:03.649978Z"
        },
        "papermill": {
          "duration": 0.197719,
          "end_time": "2023-05-03T15:28:03.653740",
          "exception": false,
          "start_time": "2023-05-03T15:28:03.456021",
          "status": "completed"
        },
        "tags": [],
        "id": "a85ed0e2",
        "outputId": "bb30fa0d-dc3a-4e9a-a948-09cd48fd6161"
      },
      "outputs": [
        {
          "name": "stderr",
          "output_type": "stream",
          "text": [
            "/opt/conda/lib/python3.10/site-packages/sklearn/preprocessing/_encoders.py:868: FutureWarning: `sparse` was renamed to `sparse_output` in version 1.2 and will be removed in 1.4. `sparse_output` is ignored unless you leave `sparse` to its default value.\n",
            "  warnings.warn(\n"
          ]
        }
      ],
      "source": [
        "df = pd.read_csv('/kaggle/input/gps-trajectories/trajFeatures.csv') #load the dataset # here training is done in kaggle for GPU's dependency\n",
        "df = df.loc[df['Label-state'] != 'Unlabelled'] \n",
        "df.loc[df['Mode of Transport']=='taxi','Mode of Transport'] = 'car' # group taxis and cars\n",
        "\n",
        "for column in df.columns:\n",
        "    if 'Unnamed' in column:\n",
        "        df.drop(column, axis=1, inplace=True)\n",
        "\n",
        "modes = np.array(df['Mode of Transport'])\n",
        "\n",
        "# Encoding modes of transport from here: bit.ly/2LdtVjV (see here also for inverse encoding)\n",
        "# integer encode\n",
        "label_encoder = LabelEncoder()\n",
        "integer_encoded = label_encoder.fit_transform(modes)\n",
        "# binary encode\n",
        "onehot_encoder = OneHotEncoder(sparse=False)\n",
        "integer_encoded = integer_encoded.reshape(len(integer_encoded), 1)\n",
        "modes = onehot_encoder.fit_transform(integer_encoded)\n",
        "\n",
        "feature_drop = ['Mode of Transport','Path','Label-state', 'Point Count', 'Duration','Length', 'Turning-angle/Time','Hurst Exponent']\n",
        "\n",
        "features = list(df.drop(feature_drop, axis=1).columns)\n",
        "\n",
        "# Input/output data\n",
        "X = np.array(df.drop(feature_drop, axis=1))\n",
        "Y = modes"
      ]
    },
    {
      "cell_type": "code",
      "execution_count": null,
      "id": "73c88b53",
      "metadata": {
        "execution": {
          "iopub.execute_input": "2023-05-03T15:28:03.669531Z",
          "iopub.status.busy": "2023-05-03T15:28:03.669108Z",
          "iopub.status.idle": "2023-05-03T15:28:03.677730Z",
          "shell.execute_reply": "2023-05-03T15:28:03.676767Z"
        },
        "papermill": {
          "duration": 0.019228,
          "end_time": "2023-05-03T15:28:03.679651",
          "exception": false,
          "start_time": "2023-05-03T15:28:03.660423",
          "status": "completed"
        },
        "tags": [],
        "id": "73c88b53",
        "outputId": "cfd17af7-f5ff-42c7-8ff5-9f2b8b93dd00"
      },
      "outputs": [
        {
          "data": {
            "text/plain": [
              "array(['train', 'walk', 'car', 'bus', 'subway', 'airplane', 'bike',\n",
              "       'boat', 'run', 'motorcycle'], dtype=object)"
            ]
          },
          "execution_count": 3,
          "metadata": {},
          "output_type": "execute_result"
        }
      ],
      "source": [
        "np.array(df['Mode of Transport'].unique())\n"
      ]
    },
    {
      "cell_type": "code",
      "execution_count": null,
      "id": "2b6f14dc",
      "metadata": {
        "execution": {
          "iopub.execute_input": "2023-05-03T15:28:03.694546Z",
          "iopub.status.busy": "2023-05-03T15:28:03.693716Z",
          "iopub.status.idle": "2023-05-03T15:28:03.699830Z",
          "shell.execute_reply": "2023-05-03T15:28:03.699064Z"
        },
        "papermill": {
          "duration": 0.015777,
          "end_time": "2023-05-03T15:28:03.701883",
          "exception": false,
          "start_time": "2023-05-03T15:28:03.686106",
          "status": "completed"
        },
        "tags": [],
        "id": "2b6f14dc"
      },
      "outputs": [],
      "source": [
        "from sklearn.model_selection import train_test_split\n",
        "\n",
        "X_train, X_test, y_train, y_test = train_test_split(  X, Y, test_size=0.33, random_state=42)"
      ]
    },
    {
      "cell_type": "code",
      "execution_count": null,
      "id": "2cdcd78a",
      "metadata": {
        "execution": {
          "iopub.execute_input": "2023-05-03T15:28:03.716572Z",
          "iopub.status.busy": "2023-05-03T15:28:03.716205Z",
          "iopub.status.idle": "2023-05-03T15:28:03.999962Z",
          "shell.execute_reply": "2023-05-03T15:28:03.998638Z"
        },
        "papermill": {
          "duration": 0.302365,
          "end_time": "2023-05-03T15:28:04.010756",
          "exception": false,
          "start_time": "2023-05-03T15:28:03.708391",
          "status": "completed"
        },
        "tags": [],
        "id": "2cdcd78a",
        "outputId": "865c119b-1704-4cc4-cc21-87480c5207f4"
      },
      "outputs": [
        {
          "name": "stdout",
          "output_type": "stream",
          "text": [
            "Model: \"model\"\n",
            "_________________________________________________________________\n",
            " Layer (type)                Output Shape              Param #   \n",
            "=================================================================\n",
            " input_1 (InputLayer)        [(None, 8)]               0         \n",
            "                                                                 \n",
            " dense (Dense)               (None, 512)               4608      \n",
            "                                                                 \n",
            " batch_normalization (BatchN  (None, 512)              2048      \n",
            " ormalization)                                                   \n",
            "                                                                 \n",
            " activation (Activation)     (None, 512)               0         \n",
            "                                                                 \n",
            " dropout (Dropout)           (None, 512)               0         \n",
            "                                                                 \n",
            " dense_1 (Dense)             (None, 256)               131328    \n",
            "                                                                 \n",
            " batch_normalization_1 (Batc  (None, 256)              1024      \n",
            " hNormalization)                                                 \n",
            "                                                                 \n",
            " activation_1 (Activation)   (None, 256)               0         \n",
            "                                                                 \n",
            " dropout_1 (Dropout)         (None, 256)               0         \n",
            "                                                                 \n",
            " dense_2 (Dense)             (None, 10)                2570      \n",
            "                                                                 \n",
            "=================================================================\n",
            "Total params: 141,578\n",
            "Trainable params: 140,042\n",
            "Non-trainable params: 1,536\n",
            "_________________________________________________________________\n"
          ]
        }
      ],
      "source": [
        "def fc_block(inputs, output_channels, dropout=0.2):\n",
        "    x = tf.keras.layers.Dense(output_channels)(inputs)\n",
        "    x = tf.keras.layers.BatchNormalization()(x)\n",
        "    x = tf.keras.layers.Activation(\"gelu\")(x)\n",
        "    x = tf.keras.layers.Dropout(dropout)(x)\n",
        "    return x\n",
        "#model1 \n",
        "def get_model(n_labels=10, init_fc=512, n_blocks=2, _dropout_1=0.2, _dropout_2=0.6, flat_frame_len=3258):\n",
        "    _inputs = tf.keras.layers.Input(shape=(8,))\n",
        "    x = _inputs\n",
        "    \n",
        "    # Define layers\n",
        "    for i in range(n_blocks):\n",
        "        x = fc_block(\n",
        "            x, output_channels=init_fc//(2**i), \n",
        "            dropout=_dropout_1 if (1+i)!=n_blocks else _dropout_2\n",
        "        )\n",
        "    \n",
        "    # Define output layer\n",
        "    _outputs = tf.keras.layers.Dense(n_labels, activation=\"softmax\")(x)\n",
        "    \n",
        "    # Build the model\n",
        "    model = tf.keras.models.Model(inputs=_inputs, outputs=_outputs)\n",
        "    return model\n",
        "\n",
        "model = get_model()\n",
        "model.compile(tf.keras.optimizers.Adam(0.000333), \"categorical_crossentropy\", metrics=\"acc\")\n",
        "model.summary()\n",
        "\n",
        "# tf.keras.utils.plot_model(model)\n"
      ]
    },
    {
      "cell_type": "code",
      "execution_count": null,
      "id": "b4959abe",
      "metadata": {
        "execution": {
          "iopub.execute_input": "2023-05-03T15:28:04.028743Z",
          "iopub.status.busy": "2023-05-03T15:28:04.028344Z",
          "iopub.status.idle": "2023-05-03T15:29:27.747802Z",
          "shell.execute_reply": "2023-05-03T15:29:27.746956Z"
        },
        "papermill": {
          "duration": 83.731684,
          "end_time": "2023-05-03T15:29:27.750503",
          "exception": false,
          "start_time": "2023-05-03T15:28:04.018819",
          "status": "completed"
        },
        "tags": [],
        "id": "b4959abe",
        "outputId": "0112f0f4-419c-4570-c502-e77f46bfa232"
      },
      "outputs": [
        {
          "name": "stdout",
          "output_type": "stream",
          "text": [
            "Epoch 1/100\n",
            "105/105 [==============================] - 3s 11ms/step - loss: 1.8762 - acc: 0.4470 - val_loss: 2.0809 - val_acc: 0.2414 - lr: 3.3300e-04\n",
            "Epoch 2/100\n",
            "105/105 [==============================] - 1s 8ms/step - loss: 1.5648 - acc: 0.5064 - val_loss: 2.3155 - val_acc: 0.2286 - lr: 3.3300e-04\n",
            "Epoch 3/100\n",
            "104/105 [============================>.] - ETA: 0s - loss: 1.4613 - acc: 0.5302\n",
            "Epoch 3: ReduceLROnPlateau reducing learning rate to 0.000266400002874434.\n",
            "105/105 [==============================] - 1s 8ms/step - loss: 1.4635 - acc: 0.5294 - val_loss: 2.1870 - val_acc: 0.2201 - lr: 3.3300e-04\n",
            "Epoch 4/100\n",
            "105/105 [==============================] - 1s 8ms/step - loss: 1.3863 - acc: 0.5344 - val_loss: 2.2379 - val_acc: 0.2197 - lr: 2.6640e-04\n",
            "Epoch 5/100\n",
            " 97/105 [==========================>...] - ETA: 0s - loss: 1.3184 - acc: 0.5392\n",
            "Epoch 5: ReduceLROnPlateau reducing learning rate to 0.00021311999298632145.\n",
            "105/105 [==============================] - 1s 7ms/step - loss: 1.3250 - acc: 0.5375 - val_loss: 2.2161 - val_acc: 0.2201 - lr: 2.6640e-04\n",
            "Epoch 6/100\n",
            "105/105 [==============================] - 1s 7ms/step - loss: 1.3113 - acc: 0.5407 - val_loss: 2.2118 - val_acc: 0.2317 - lr: 2.1312e-04\n",
            "Epoch 7/100\n",
            " 98/105 [===========================>..] - ETA: 0s - loss: 1.3021 - acc: 0.5373\n",
            "Epoch 7: ReduceLROnPlateau reducing learning rate to 0.0001704959897324443.\n",
            "105/105 [==============================] - 1s 7ms/step - loss: 1.3017 - acc: 0.5380 - val_loss: 2.2190 - val_acc: 0.2395 - lr: 2.1312e-04\n",
            "Epoch 8/100\n",
            "105/105 [==============================] - 1s 8ms/step - loss: 1.2771 - acc: 0.5495 - val_loss: 2.2081 - val_acc: 0.2333 - lr: 1.7050e-04\n",
            "Epoch 9/100\n",
            "104/105 [============================>.] - ETA: 0s - loss: 1.2805 - acc: 0.5519\n",
            "Epoch 9: ReduceLROnPlateau reducing learning rate to 0.000136396789457649.\n",
            "105/105 [==============================] - 1s 7ms/step - loss: 1.2809 - acc: 0.5516 - val_loss: 2.0847 - val_acc: 0.2414 - lr: 1.7050e-04\n",
            "Epoch 10/100\n",
            "105/105 [==============================] - 1s 8ms/step - loss: 1.2504 - acc: 0.5585 - val_loss: 2.2328 - val_acc: 0.2399 - lr: 1.3640e-04\n",
            "Epoch 11/100\n",
            " 98/105 [===========================>..] - ETA: 0s - loss: 1.2593 - acc: 0.5537\n",
            "Epoch 11: ReduceLROnPlateau reducing learning rate to 0.0001091174315661192.\n",
            "105/105 [==============================] - 1s 8ms/step - loss: 1.2576 - acc: 0.5532 - val_loss: 2.1154 - val_acc: 0.2473 - lr: 1.3640e-04\n",
            "Epoch 12/100\n",
            "105/105 [==============================] - 1s 7ms/step - loss: 1.2584 - acc: 0.5511 - val_loss: 2.1552 - val_acc: 0.2395 - lr: 1.0912e-04\n",
            "Epoch 13/100\n",
            "105/105 [==============================] - 1s 7ms/step - loss: 1.2103 - acc: 0.5670 - val_loss: 2.0397 - val_acc: 0.2449 - lr: 1.0912e-04\n",
            "Epoch 14/100\n",
            "105/105 [==============================] - 1s 8ms/step - loss: 1.2309 - acc: 0.5654 - val_loss: 1.9985 - val_acc: 0.2477 - lr: 1.0912e-04\n",
            "Epoch 15/100\n",
            "105/105 [==============================] - 1s 7ms/step - loss: 1.1991 - acc: 0.5591 - val_loss: 1.9885 - val_acc: 0.2399 - lr: 1.0912e-04\n",
            "Epoch 16/100\n",
            "105/105 [==============================] - 1s 7ms/step - loss: 1.1976 - acc: 0.5612 - val_loss: 1.9964 - val_acc: 0.2481 - lr: 1.0912e-04\n",
            "Epoch 17/100\n",
            " 97/105 [==========================>...] - ETA: 0s - loss: 1.1967 - acc: 0.5637\n",
            "Epoch 17: ReduceLROnPlateau reducing learning rate to 8.72939475812018e-05.\n",
            "105/105 [==============================] - 1s 8ms/step - loss: 1.2012 - acc: 0.5616 - val_loss: 2.0331 - val_acc: 0.2391 - lr: 1.0912e-04\n",
            "Epoch 18/100\n",
            "105/105 [==============================] - 1s 7ms/step - loss: 1.1883 - acc: 0.5725 - val_loss: 1.9691 - val_acc: 0.2457 - lr: 8.7294e-05\n",
            "Epoch 19/100\n",
            "105/105 [==============================] - 1s 9ms/step - loss: 1.1811 - acc: 0.5597 - val_loss: 2.0080 - val_acc: 0.2414 - lr: 8.7294e-05\n",
            "Epoch 20/100\n",
            "105/105 [==============================] - 1s 8ms/step - loss: 1.1666 - acc: 0.5767 - val_loss: 1.9204 - val_acc: 0.2364 - lr: 8.7294e-05\n",
            "Epoch 21/100\n",
            "105/105 [==============================] - 1s 7ms/step - loss: 1.1678 - acc: 0.5806 - val_loss: 1.9530 - val_acc: 0.2391 - lr: 8.7294e-05\n",
            "Epoch 22/100\n",
            "105/105 [==============================] - 1s 8ms/step - loss: 1.1699 - acc: 0.5788 - val_loss: 1.8924 - val_acc: 0.2395 - lr: 8.7294e-05\n",
            "Epoch 23/100\n",
            "105/105 [==============================] - 1s 7ms/step - loss: 1.1463 - acc: 0.5796 - val_loss: 1.8974 - val_acc: 0.2449 - lr: 8.7294e-05\n",
            "Epoch 24/100\n",
            "105/105 [==============================] - 1s 8ms/step - loss: 1.1653 - acc: 0.5779 - val_loss: 1.8489 - val_acc: 0.2453 - lr: 8.7294e-05\n",
            "Epoch 25/100\n",
            "105/105 [==============================] - 1s 8ms/step - loss: 1.1433 - acc: 0.5850 - val_loss: 1.8856 - val_acc: 0.2391 - lr: 8.7294e-05\n",
            "Epoch 26/100\n",
            "100/105 [===========================>..] - ETA: 0s - loss: 1.1657 - acc: 0.5782\n",
            "Epoch 26: ReduceLROnPlateau reducing learning rate to 6.983515922911466e-05.\n",
            "105/105 [==============================] - 1s 8ms/step - loss: 1.1735 - acc: 0.5765 - val_loss: 1.8624 - val_acc: 0.2434 - lr: 8.7294e-05\n",
            "Epoch 27/100\n",
            "105/105 [==============================] - 1s 8ms/step - loss: 1.1430 - acc: 0.5840 - val_loss: 1.8527 - val_acc: 0.2453 - lr: 6.9835e-05\n",
            "Epoch 28/100\n",
            "105/105 [==============================] - 1s 8ms/step - loss: 1.1535 - acc: 0.5829 - val_loss: 1.8407 - val_acc: 0.2481 - lr: 6.9835e-05\n",
            "Epoch 29/100\n",
            "105/105 [==============================] - 1s 8ms/step - loss: 1.1503 - acc: 0.5842 - val_loss: 1.8122 - val_acc: 0.2391 - lr: 6.9835e-05\n",
            "Epoch 30/100\n",
            "105/105 [==============================] - 1s 7ms/step - loss: 1.1265 - acc: 0.5923 - val_loss: 1.7370 - val_acc: 0.2465 - lr: 6.9835e-05\n",
            "Epoch 31/100\n",
            "105/105 [==============================] - 1s 7ms/step - loss: 1.1190 - acc: 0.5852 - val_loss: 1.7193 - val_acc: 0.2465 - lr: 6.9835e-05\n",
            "Epoch 32/100\n",
            "105/105 [==============================] - 1s 8ms/step - loss: 1.1373 - acc: 0.5875 - val_loss: 1.7765 - val_acc: 0.2391 - lr: 6.9835e-05\n",
            "Epoch 33/100\n",
            "105/105 [==============================] - 1s 7ms/step - loss: 1.1319 - acc: 0.5788 - val_loss: 1.7140 - val_acc: 0.2449 - lr: 6.9835e-05\n",
            "Epoch 34/100\n",
            "105/105 [==============================] - 1s 8ms/step - loss: 1.1202 - acc: 0.5896 - val_loss: 1.7244 - val_acc: 0.2465 - lr: 6.9835e-05\n",
            "Epoch 35/100\n",
            "105/105 [==============================] - 1s 8ms/step - loss: 1.1243 - acc: 0.5792 - val_loss: 1.6884 - val_acc: 0.2457 - lr: 6.9835e-05\n",
            "Epoch 36/100\n",
            "105/105 [==============================] - 1s 8ms/step - loss: 1.1204 - acc: 0.5867 - val_loss: 1.7121 - val_acc: 0.2477 - lr: 6.9835e-05\n",
            "Epoch 37/100\n",
            "105/105 [==============================] - 1s 8ms/step - loss: 1.1137 - acc: 0.5833 - val_loss: 1.6736 - val_acc: 0.2481 - lr: 6.9835e-05\n",
            "Epoch 38/100\n",
            "105/105 [==============================] - 1s 8ms/step - loss: 1.1072 - acc: 0.5863 - val_loss: 1.6521 - val_acc: 0.2488 - lr: 6.9835e-05\n",
            "Epoch 39/100\n",
            "105/105 [==============================] - 1s 7ms/step - loss: 1.1282 - acc: 0.5890 - val_loss: 1.6552 - val_acc: 0.2477 - lr: 6.9835e-05\n",
            "Epoch 40/100\n",
            "105/105 [==============================] - 1s 8ms/step - loss: 1.1192 - acc: 0.5823 - val_loss: 1.6369 - val_acc: 0.2481 - lr: 6.9835e-05\n",
            "Epoch 41/100\n",
            "105/105 [==============================] - 1s 8ms/step - loss: 1.1126 - acc: 0.5932 - val_loss: 1.6837 - val_acc: 0.2473 - lr: 6.9835e-05\n",
            "Epoch 42/100\n",
            "105/105 [==============================] - 1s 8ms/step - loss: 1.1000 - acc: 0.5873 - val_loss: 1.6218 - val_acc: 0.2465 - lr: 6.9835e-05\n",
            "Epoch 43/100\n",
            "105/105 [==============================] - 1s 8ms/step - loss: 1.1028 - acc: 0.5871 - val_loss: 1.6023 - val_acc: 0.2461 - lr: 6.9835e-05\n",
            "Epoch 44/100\n",
            "105/105 [==============================] - 1s 8ms/step - loss: 1.1098 - acc: 0.5863 - val_loss: 1.6056 - val_acc: 0.2473 - lr: 6.9835e-05\n",
            "Epoch 45/100\n",
            "101/105 [===========================>..] - ETA: 0s - loss: 1.1240 - acc: 0.5828\n",
            "Epoch 45: ReduceLROnPlateau reducing learning rate to 5.586812621913851e-05.\n",
            "105/105 [==============================] - 1s 8ms/step - loss: 1.1171 - acc: 0.5848 - val_loss: 1.6318 - val_acc: 0.2407 - lr: 6.9835e-05\n",
            "Epoch 46/100\n",
            "105/105 [==============================] - 1s 7ms/step - loss: 1.0966 - acc: 0.5909 - val_loss: 1.5711 - val_acc: 0.2753 - lr: 5.5868e-05\n",
            "Epoch 47/100\n",
            "105/105 [==============================] - 1s 7ms/step - loss: 1.0981 - acc: 0.5869 - val_loss: 1.5682 - val_acc: 0.2897 - lr: 5.5868e-05\n",
            "Epoch 48/100\n",
            "105/105 [==============================] - 1s 7ms/step - loss: 1.0957 - acc: 0.5909 - val_loss: 1.5323 - val_acc: 0.4133 - lr: 5.5868e-05\n",
            "Epoch 49/100\n",
            "105/105 [==============================] - 1s 8ms/step - loss: 1.0905 - acc: 0.5877 - val_loss: 1.5549 - val_acc: 0.3266 - lr: 5.5868e-05\n",
            "Epoch 50/100\n",
            "104/105 [============================>.] - ETA: 0s - loss: 1.0829 - acc: 0.5917\n",
            "Epoch 50: ReduceLROnPlateau reducing learning rate to 4.4694502139464025e-05.\n",
            "105/105 [==============================] - 1s 7ms/step - loss: 1.0823 - acc: 0.5921 - val_loss: 1.5469 - val_acc: 0.3437 - lr: 5.5868e-05\n",
            "Epoch 51/100\n",
            "105/105 [==============================] - 1s 8ms/step - loss: 1.0797 - acc: 0.5925 - val_loss: 1.5455 - val_acc: 0.3690 - lr: 4.4695e-05\n",
            "Epoch 52/100\n",
            " 98/105 [===========================>..] - ETA: 0s - loss: 1.0799 - acc: 0.6053\n",
            "Epoch 52: ReduceLROnPlateau reducing learning rate to 3.575560112949461e-05.\n",
            "105/105 [==============================] - 1s 7ms/step - loss: 1.0723 - acc: 0.6078 - val_loss: 1.5500 - val_acc: 0.3414 - lr: 4.4695e-05\n",
            "Epoch 53/100\n",
            "105/105 [==============================] - 1s 8ms/step - loss: 1.0924 - acc: 0.5930 - val_loss: 1.5621 - val_acc: 0.3165 - lr: 3.5756e-05\n",
            "Epoch 54/100\n",
            "104/105 [============================>.] - ETA: 0s - loss: 1.0926 - acc: 0.5900\n",
            "Epoch 54: ReduceLROnPlateau reducing learning rate to 2.8604481485672295e-05.\n",
            "105/105 [==============================] - 1s 7ms/step - loss: 1.0933 - acc: 0.5896 - val_loss: 1.5387 - val_acc: 0.3717 - lr: 3.5756e-05\n",
            "Epoch 55/100\n",
            "105/105 [==============================] - 1s 8ms/step - loss: 1.0825 - acc: 0.5992 - val_loss: 1.4753 - val_acc: 0.5012 - lr: 2.8604e-05\n",
            "Epoch 56/100\n",
            "105/105 [==============================] - 1s 7ms/step - loss: 1.0881 - acc: 0.5951 - val_loss: 1.4623 - val_acc: 0.5152 - lr: 2.8604e-05\n",
            "Epoch 57/100\n",
            "105/105 [==============================] - 1s 7ms/step - loss: 1.0850 - acc: 0.5944 - val_loss: 1.4308 - val_acc: 0.5575 - lr: 2.8604e-05\n",
            "Epoch 58/100\n",
            "105/105 [==============================] - 1s 9ms/step - loss: 1.0845 - acc: 0.5915 - val_loss: 1.4397 - val_acc: 0.5276 - lr: 2.8604e-05\n",
            "Epoch 59/100\n",
            "105/105 [==============================] - 1s 8ms/step - loss: 1.0790 - acc: 0.5890 - val_loss: 1.4011 - val_acc: 0.5684 - lr: 2.8604e-05\n",
            "Epoch 60/100\n",
            "105/105 [==============================] - 1s 7ms/step - loss: 1.0833 - acc: 0.5873 - val_loss: 1.3909 - val_acc: 0.5754 - lr: 2.8604e-05\n",
            "Epoch 61/100\n",
            "105/105 [==============================] - 1s 7ms/step - loss: 1.0830 - acc: 0.5925 - val_loss: 1.3569 - val_acc: 0.5859 - lr: 2.8604e-05\n",
            "Epoch 62/100\n",
            "105/105 [==============================] - 1s 8ms/step - loss: 1.0600 - acc: 0.6055 - val_loss: 1.3662 - val_acc: 0.5855 - lr: 2.8604e-05\n",
            "Epoch 63/100\n",
            "104/105 [============================>.] - ETA: 0s - loss: 1.0623 - acc: 0.5998\n",
            "Epoch 63: ReduceLROnPlateau reducing learning rate to 2.2883585188537836e-05.\n",
            "105/105 [==============================] - 1s 7ms/step - loss: 1.0625 - acc: 0.5997 - val_loss: 1.3816 - val_acc: 0.5840 - lr: 2.8604e-05\n",
            "Epoch 64/100\n",
            "105/105 [==============================] - 1s 7ms/step - loss: 1.0882 - acc: 0.5902 - val_loss: 1.3667 - val_acc: 0.5851 - lr: 2.2884e-05\n",
            "Epoch 65/100\n",
            "102/105 [============================>.] - ETA: 0s - loss: 1.0809 - acc: 0.5900\n",
            "Epoch 65: ReduceLROnPlateau reducing learning rate to 1.830686815083027e-05.\n",
            "105/105 [==============================] - 1s 8ms/step - loss: 1.0788 - acc: 0.5909 - val_loss: 1.3793 - val_acc: 0.5859 - lr: 2.2884e-05\n",
            "Epoch 66/100\n",
            "105/105 [==============================] - 1s 7ms/step - loss: 1.0739 - acc: 0.5947 - val_loss: 1.3593 - val_acc: 0.5844 - lr: 1.8307e-05\n",
            "Epoch 67/100\n",
            "105/105 [==============================] - 1s 7ms/step - loss: 1.0705 - acc: 0.5938 - val_loss: 1.3459 - val_acc: 0.5855 - lr: 1.8307e-05\n",
            "Epoch 68/100\n",
            "105/105 [==============================] - 1s 8ms/step - loss: 1.0854 - acc: 0.5894 - val_loss: 1.3493 - val_acc: 0.5781 - lr: 1.8307e-05\n",
            "Epoch 69/100\n",
            "105/105 [==============================] - 1s 8ms/step - loss: 1.0659 - acc: 0.6007 - val_loss: 1.3231 - val_acc: 0.5828 - lr: 1.8307e-05\n",
            "Epoch 70/100\n",
            "105/105 [==============================] - 1s 7ms/step - loss: 1.0701 - acc: 0.5949 - val_loss: 1.3253 - val_acc: 0.5770 - lr: 1.8307e-05\n",
            "Epoch 71/100\n",
            "105/105 [==============================] - 1s 7ms/step - loss: 1.0721 - acc: 0.6039 - val_loss: 1.3157 - val_acc: 0.5828 - lr: 1.8307e-05\n",
            "Epoch 72/100\n",
            "105/105 [==============================] - 1s 7ms/step - loss: 1.0707 - acc: 0.5988 - val_loss: 1.3193 - val_acc: 0.5863 - lr: 1.8307e-05\n",
            "Epoch 73/100\n",
            "105/105 [==============================] - 1s 8ms/step - loss: 1.0606 - acc: 0.5940 - val_loss: 1.3100 - val_acc: 0.5875 - lr: 1.8307e-05\n",
            "Epoch 74/100\n",
            "105/105 [==============================] - 1s 7ms/step - loss: 1.0682 - acc: 0.5959 - val_loss: 1.3002 - val_acc: 0.5898 - lr: 1.8307e-05\n",
            "Epoch 75/100\n",
            "105/105 [==============================] - 1s 7ms/step - loss: 1.0583 - acc: 0.6038 - val_loss: 1.3013 - val_acc: 0.5867 - lr: 1.8307e-05\n",
            "Epoch 76/100\n",
            "105/105 [==============================] - 1s 7ms/step - loss: 1.0708 - acc: 0.6013 - val_loss: 1.2850 - val_acc: 0.5902 - lr: 1.8307e-05\n",
            "Epoch 77/100\n",
            "105/105 [==============================] - 1s 8ms/step - loss: 1.0637 - acc: 0.5930 - val_loss: 1.2624 - val_acc: 0.5918 - lr: 1.8307e-05\n",
            "Epoch 78/100\n",
            "105/105 [==============================] - 1s 8ms/step - loss: 1.0721 - acc: 0.5990 - val_loss: 1.2768 - val_acc: 0.5918 - lr: 1.8307e-05\n",
            "Epoch 79/100\n",
            " 97/105 [==========================>...] - ETA: 0s - loss: 1.0675 - acc: 0.5984\n",
            "Epoch 79: ReduceLROnPlateau reducing learning rate to 1.4645494229625912e-05.\n",
            "105/105 [==============================] - 1s 7ms/step - loss: 1.0655 - acc: 0.5969 - val_loss: 1.2932 - val_acc: 0.5902 - lr: 1.8307e-05\n",
            "Epoch 80/100\n",
            "105/105 [==============================] - 1s 8ms/step - loss: 1.0708 - acc: 0.5974 - val_loss: 1.2769 - val_acc: 0.5914 - lr: 1.4645e-05\n",
            "Epoch 81/100\n",
            " 97/105 [==========================>...] - ETA: 0s - loss: 1.0699 - acc: 0.6016\n",
            "Epoch 81: ReduceLROnPlateau reducing learning rate to 1.1716395238181577e-05.\n",
            "105/105 [==============================] - 1s 7ms/step - loss: 1.0620 - acc: 0.6039 - val_loss: 1.2692 - val_acc: 0.5921 - lr: 1.4645e-05\n",
            "Epoch 82/100\n",
            "105/105 [==============================] - 1s 7ms/step - loss: 1.0518 - acc: 0.6053 - val_loss: 1.2682 - val_acc: 0.5921 - lr: 1.1716e-05\n",
            "Epoch 83/100\n",
            "105/105 [==============================] - 1s 8ms/step - loss: 1.0631 - acc: 0.5974 - val_loss: 1.2526 - val_acc: 0.5906 - lr: 1.1716e-05\n",
            "Epoch 84/100\n",
            "105/105 [==============================] - 1s 7ms/step - loss: 1.0571 - acc: 0.6055 - val_loss: 1.2610 - val_acc: 0.5898 - lr: 1.1716e-05\n",
            "Epoch 85/100\n",
            " 97/105 [==========================>...] - ETA: 0s - loss: 1.0642 - acc: 0.5984\n",
            "Epoch 85: ReduceLROnPlateau reducing learning rate to 9.373116336064414e-06.\n",
            "105/105 [==============================] - 1s 8ms/step - loss: 1.0650 - acc: 0.5980 - val_loss: 1.2739 - val_acc: 0.5910 - lr: 1.1716e-05\n",
            "Epoch 86/100\n",
            "105/105 [==============================] - 1s 8ms/step - loss: 1.0667 - acc: 0.6009 - val_loss: 1.2763 - val_acc: 0.5914 - lr: 9.3731e-06\n",
            "Epoch 87/100\n",
            "105/105 [==============================] - ETA: 0s - loss: 1.0673 - acc: 0.6045\n",
            "Epoch 87: ReduceLROnPlateau reducing learning rate to 7.498492777813226e-06.\n",
            "105/105 [==============================] - 1s 7ms/step - loss: 1.0673 - acc: 0.6045 - val_loss: 1.2703 - val_acc: 0.5902 - lr: 9.3731e-06\n",
            "Epoch 88/100\n",
            "105/105 [==============================] - 1s 7ms/step - loss: 1.0634 - acc: 0.5993 - val_loss: 1.2828 - val_acc: 0.5894 - lr: 7.4985e-06\n",
            "Epoch 89/100\n",
            "103/105 [============================>.] - ETA: 0s - loss: 1.0600 - acc: 0.6089\n",
            "Epoch 89: ReduceLROnPlateau reducing learning rate to 5.998794222250581e-06.\n",
            "105/105 [==============================] - 1s 7ms/step - loss: 1.0583 - acc: 0.6093 - val_loss: 1.2759 - val_acc: 0.5914 - lr: 7.4985e-06\n",
            "Epoch 90/100\n",
            "105/105 [==============================] - 1s 8ms/step - loss: 1.0715 - acc: 0.5936 - val_loss: 1.2682 - val_acc: 0.5867 - lr: 5.9988e-06\n",
            "Epoch 91/100\n",
            "103/105 [============================>.] - ETA: 0s - loss: 1.0723 - acc: 0.5992\n",
            "Epoch 91: ReduceLROnPlateau reducing learning rate to 4.799035377800465e-06.\n",
            "105/105 [==============================] - 1s 8ms/step - loss: 1.0716 - acc: 0.5995 - val_loss: 1.2545 - val_acc: 0.5906 - lr: 5.9988e-06\n",
            "Epoch 92/100\n",
            "105/105 [==============================] - 1s 7ms/step - loss: 1.0607 - acc: 0.5947 - val_loss: 1.2465 - val_acc: 0.5898 - lr: 4.7990e-06\n",
            "Epoch 93/100\n",
            "105/105 [==============================] - 1s 7ms/step - loss: 1.0596 - acc: 0.6061 - val_loss: 1.2357 - val_acc: 0.5902 - lr: 4.7990e-06\n",
            "Epoch 94/100\n",
            "105/105 [==============================] - 1s 8ms/step - loss: 1.0706 - acc: 0.5984 - val_loss: 1.2397 - val_acc: 0.5910 - lr: 4.7990e-06\n",
            "Epoch 95/100\n",
            " 97/105 [==========================>...] - ETA: 0s - loss: 1.0489 - acc: 0.5990\n",
            "Epoch 95: ReduceLROnPlateau reducing learning rate to 3.839228156721219e-06.\n",
            "105/105 [==============================] - 1s 7ms/step - loss: 1.0533 - acc: 0.5972 - val_loss: 1.2374 - val_acc: 0.5914 - lr: 4.7990e-06\n",
            "Epoch 96/100\n",
            "105/105 [==============================] - 1s 8ms/step - loss: 1.0425 - acc: 0.5995 - val_loss: 1.2379 - val_acc: 0.5914 - lr: 3.8392e-06\n",
            "Epoch 97/100\n",
            "105/105 [==============================] - 1s 8ms/step - loss: 1.0595 - acc: 0.6066 - val_loss: 1.2230 - val_acc: 0.5886 - lr: 3.8392e-06\n",
            "Epoch 98/100\n",
            "105/105 [==============================] - 1s 9ms/step - loss: 1.0620 - acc: 0.5969 - val_loss: 1.2297 - val_acc: 0.5879 - lr: 3.8392e-06\n",
            "Epoch 99/100\n",
            "102/105 [============================>.] - ETA: 0s - loss: 1.0590 - acc: 0.6039\n",
            "Epoch 99: ReduceLROnPlateau reducing learning rate to 3.071382525376976e-06.\n",
            "105/105 [==============================] - 1s 8ms/step - loss: 1.0594 - acc: 0.6036 - val_loss: 1.2285 - val_acc: 0.5906 - lr: 3.8392e-06\n",
            "Epoch 100/100\n",
            "105/105 [==============================] - 1s 7ms/step - loss: 1.0623 - acc: 0.6007 - val_loss: 1.2255 - val_acc: 0.5890 - lr: 3.0714e-06\n"
          ]
        }
      ],
      "source": [
        "cb_list = [\n",
        "    \n",
        "    tf.keras.callbacks.ReduceLROnPlateau(patience=2, factor=0.8, verbose=1)\n",
        "]\n",
        "history = model.fit(X_train, y_train, validation_data=(X_test, y_test), epochs=100, callbacks=cb_list, batch_size=50) "
      ]
    },
    {
      "cell_type": "code",
      "execution_count": null,
      "id": "3d7ae99b",
      "metadata": {
        "execution": {
          "iopub.execute_input": "2023-05-03T15:29:27.948201Z",
          "iopub.status.busy": "2023-05-03T15:29:27.947419Z",
          "iopub.status.idle": "2023-05-03T15:29:28.337338Z",
          "shell.execute_reply": "2023-05-03T15:29:28.336232Z"
        },
        "papermill": {
          "duration": 0.490919,
          "end_time": "2023-05-03T15:29:28.339441",
          "exception": false,
          "start_time": "2023-05-03T15:29:27.848522",
          "status": "completed"
        },
        "tags": [],
        "id": "3d7ae99b",
        "outputId": "4890aa65-7b12-43a6-dabb-5c1347030b8e"
      },
      "outputs": [
        {
          "name": "stdout",
          "output_type": "stream",
          "text": [
            "81/81 [==============================] - 0s 2ms/step\n",
            "[0.00551317 0.12910192 0.00677927 0.24267392 0.1878804  0.00712329\n",
            " 0.00798614 0.1418976  0.02694948 0.24409483]\n",
            "9\n",
            "0.24409483\n"
          ]
        }
      ],
      "source": [
        "lstm_reslt = model.predict(X_test)\n",
        "\n",
        "print(lstm_reslt[0]) # probablities of each class for 1st row \n",
        "print(np.argmax(lstm_reslt[0])) # max prob predicted  class is 3\n",
        "print(np.max(lstm_reslt[0])) # with 0.23 predicted % \n",
        "\n"
      ]
    },
    {
      "cell_type": "code",
      "execution_count": null,
      "id": "69495703",
      "metadata": {
        "execution": {
          "iopub.execute_input": "2023-05-03T15:29:28.534279Z",
          "iopub.status.busy": "2023-05-03T15:29:28.533568Z",
          "iopub.status.idle": "2023-05-03T15:29:28.538986Z",
          "shell.execute_reply": "2023-05-03T15:29:28.538276Z"
        },
        "papermill": {
          "duration": 0.104892,
          "end_time": "2023-05-03T15:29:28.540684",
          "exception": false,
          "start_time": "2023-05-03T15:29:28.435792",
          "status": "completed"
        },
        "tags": [],
        "id": "69495703",
        "outputId": "a9c25500-621b-420c-d609-a077091d06ac"
      },
      "outputs": [
        {
          "data": {
            "text/plain": [
              "dict_keys(['loss', 'acc', 'val_loss', 'val_acc', 'lr'])"
            ]
          },
          "execution_count": 8,
          "metadata": {},
          "output_type": "execute_result"
        }
      ],
      "source": [
        "history.history.keys()"
      ]
    },
    {
      "cell_type": "code",
      "execution_count": null,
      "id": "8cf24448",
      "metadata": {
        "execution": {
          "iopub.execute_input": "2023-05-03T15:29:28.736950Z",
          "iopub.status.busy": "2023-05-03T15:29:28.736248Z",
          "iopub.status.idle": "2023-05-03T15:29:28.742816Z",
          "shell.execute_reply": "2023-05-03T15:29:28.741424Z"
        },
        "papermill": {
          "duration": 0.107196,
          "end_time": "2023-05-03T15:29:28.745080",
          "exception": false,
          "start_time": "2023-05-03T15:29:28.637884",
          "status": "completed"
        },
        "tags": [],
        "id": "8cf24448",
        "outputId": "9a34cab6-1538-41aa-883c-8d3c6eb36fc7"
      },
      "outputs": [
        {
          "name": "stdout",
          "output_type": "stream",
          "text": [
            "0.5837401762604714\n",
            "0.406874023526907\n",
            "1.133734872341156\n",
            "1.6001897847652435\n"
          ]
        }
      ],
      "source": [
        "\n",
        "\n",
        "print(np.mean(history.history['acc']))\n",
        "print(np.mean(history.history['val_acc']))\n",
        "\n",
        "print(np.mean(history.history['loss']))\n",
        "print(np.mean(history.history['val_loss']))"
      ]
    },
    {
      "cell_type": "code",
      "execution_count": null,
      "id": "f2c993c7",
      "metadata": {
        "execution": {
          "iopub.execute_input": "2023-05-03T15:29:28.945315Z",
          "iopub.status.busy": "2023-05-03T15:29:28.944907Z",
          "iopub.status.idle": "2023-05-03T15:29:29.473592Z",
          "shell.execute_reply": "2023-05-03T15:29:29.472508Z"
        },
        "papermill": {
          "duration": 0.632278,
          "end_time": "2023-05-03T15:29:29.475997",
          "exception": false,
          "start_time": "2023-05-03T15:29:28.843719",
          "status": "completed"
        },
        "tags": [],
        "id": "f2c993c7",
        "outputId": "90fdbcc5-c1ca-4ecc-8c0f-e9759c53731d"
      },
      "outputs": [
        {
          "data": {
            "image/png": "[encoded data removed]",
            "text/plain": [
              "<Figure size 640x480 with 1 Axes>"
            ]
          },
          "metadata": {},
          "output_type": "display_data"
        }
      ],
      "source": [
        "plt.plot(history.history['acc'])\n",
        "plt.plot(history.history['val_acc'])\n",
        "plt.title('model accuracy')\n",
        "plt.ylabel('accuracy')\n",
        "plt.xlabel('epoch')\n",
        "plt.legend(['train', 'val'], loc='upper left')\n",
        "plt.show()"
      ]
    },
    {
      "cell_type": "code",
      "execution_count": null,
      "id": "c1bd7153",
      "metadata": {
        "execution": {
          "iopub.execute_input": "2023-05-03T15:29:29.673242Z",
          "iopub.status.busy": "2023-05-03T15:29:29.672873Z",
          "iopub.status.idle": "2023-05-03T15:29:29.930069Z",
          "shell.execute_reply": "2023-05-03T15:29:29.928917Z"
        },
        "papermill": {
          "duration": 0.358759,
          "end_time": "2023-05-03T15:29:29.932246",
          "exception": false,
          "start_time": "2023-05-03T15:29:29.573487",
          "status": "completed"
        },
        "tags": [],
        "id": "c1bd7153",
        "outputId": "e987de75-b393-47e7-ca1a-e0d85c794bc2"
      },
      "outputs": [
        {
          "data": {
            "image/png": "[encoded data removed]",
            "text/plain": [
              "<Figure size 640x480 with 1 Axes>"
            ]
          },
          "metadata": {},
          "output_type": "display_data"
        }
      ],
      "source": [
        "plt.plot(history.history['loss'])\n",
        "plt.plot(history.history['val_loss'])\n",
        "plt.title('model loss')\n",
        "plt.ylabel('loss')\n",
        "plt.xlabel('epoch')\n",
        "plt.legend(['train', 'val'], loc='upper left')\n",
        "plt.show()"
      ]
    },
    {
      "cell_type": "code",
      "execution_count": null,
      "id": "38352e60",
      "metadata": {
        "execution": {
          "iopub.execute_input": "2023-05-03T15:29:30.130216Z",
          "iopub.status.busy": "2023-05-03T15:29:30.129820Z",
          "iopub.status.idle": "2023-05-03T15:29:30.137011Z",
          "shell.execute_reply": "2023-05-03T15:29:30.135997Z"
        },
        "papermill": {
          "duration": 0.108149,
          "end_time": "2023-05-03T15:29:30.139060",
          "exception": false,
          "start_time": "2023-05-03T15:29:30.030911",
          "status": "completed"
        },
        "tags": [],
        "id": "38352e60"
      },
      "outputs": [],
      "source": [
        "X_train, X_test, y_train, y_test = train_test_split(  X, Y, test_size=0.33, random_state=42)"
      ]
    },
    {
      "cell_type": "code",
      "execution_count": null,
      "id": "c8086b00",
      "metadata": {
        "execution": {
          "iopub.execute_input": "2023-05-03T15:29:30.336926Z",
          "iopub.status.busy": "2023-05-03T15:29:30.336551Z",
          "iopub.status.idle": "2023-05-03T15:29:30.342975Z",
          "shell.execute_reply": "2023-05-03T15:29:30.342021Z"
        },
        "papermill": {
          "duration": 0.107781,
          "end_time": "2023-05-03T15:29:30.345032",
          "exception": false,
          "start_time": "2023-05-03T15:29:30.237251",
          "status": "completed"
        },
        "tags": [],
        "id": "c8086b00",
        "outputId": "35547fa6-a2ed-4ed4-df1e-561d4cabc9c4"
      },
      "outputs": [
        {
          "data": {
            "text/plain": [
              "((5219, 8), (5219, 10))"
            ]
          },
          "execution_count": 13,
          "metadata": {},
          "output_type": "execute_result"
        }
      ],
      "source": [
        "X_train.shape, y_train.shape"
      ]
    },
    {
      "cell_type": "code",
      "execution_count": null,
      "id": "607486e2",
      "metadata": {
        "papermill": {
          "duration": 0.097899,
          "end_time": "2023-05-03T15:29:30.541918",
          "exception": false,
          "start_time": "2023-05-03T15:29:30.444019",
          "status": "completed"
        },
        "tags": [],
        "id": "607486e2"
      },
      "outputs": [],
      "source": []
    },
    {
      "cell_type": "code",
      "execution_count": null,
      "id": "b825104b",
      "metadata": {
        "execution": {
          "iopub.execute_input": "2023-05-03T15:29:30.738773Z",
          "iopub.status.busy": "2023-05-03T15:29:30.738396Z",
          "iopub.status.idle": "2023-05-03T15:29:30.743083Z",
          "shell.execute_reply": "2023-05-03T15:29:30.742087Z"
        },
        "papermill": {
          "duration": 0.105573,
          "end_time": "2023-05-03T15:29:30.745121",
          "exception": false,
          "start_time": "2023-05-03T15:29:30.639548",
          "status": "completed"
        },
        "tags": [],
        "id": "b825104b"
      },
      "outputs": [],
      "source": [
        "X_train_ = X_train.reshape( 5219 , 1, 8  )\n",
        "X_test_ = X_test.reshape( 2572 , 1, 8  )\n",
        "\n",
        "\n",
        "\n",
        "# y_train_ = y_train.reshape(5219 , 1, 8)\n",
        "# y_test_ = y_test.reshape(2572 , 1, 8  )\n",
        "\n",
        "\n"
      ]
    },
    {
      "cell_type": "code",
      "execution_count": null,
      "id": "4aa0cddf",
      "metadata": {
        "execution": {
          "iopub.execute_input": "2023-05-03T15:29:30.944860Z",
          "iopub.status.busy": "2023-05-03T15:29:30.944194Z",
          "iopub.status.idle": "2023-05-03T15:29:30.950081Z",
          "shell.execute_reply": "2023-05-03T15:29:30.949378Z"
        },
        "papermill": {
          "duration": 0.108742,
          "end_time": "2023-05-03T15:29:30.951781",
          "exception": false,
          "start_time": "2023-05-03T15:29:30.843039",
          "status": "completed"
        },
        "tags": [],
        "id": "4aa0cddf",
        "outputId": "9eebe6d6-831b-4823-80ee-f41876fda671"
      },
      "outputs": [
        {
          "data": {
            "text/plain": [
              "((5219, 1, 8), (2572, 1, 8))"
            ]
          },
          "execution_count": 15,
          "metadata": {},
          "output_type": "execute_result"
        }
      ],
      "source": [
        "X_train_.shape, X_test_.shape"
      ]
    },
    {
      "cell_type": "code",
      "execution_count": null,
      "id": "a81cf71c",
      "metadata": {
        "execution": {
          "iopub.execute_input": "2023-05-03T15:29:31.149750Z",
          "iopub.status.busy": "2023-05-03T15:29:31.149396Z",
          "iopub.status.idle": "2023-05-03T15:33:02.490086Z",
          "shell.execute_reply": "2023-05-03T15:33:02.488995Z"
        },
        "papermill": {
          "duration": 211.442821,
          "end_time": "2023-05-03T15:33:02.492926",
          "exception": false,
          "start_time": "2023-05-03T15:29:31.050105",
          "status": "completed"
        },
        "tags": [],
        "id": "a81cf71c",
        "outputId": "5812ab93-de91-4c8c-bc2f-57d9d2dc788d"
      },
      "outputs": [
        {
          "name": "stdout",
          "output_type": "stream",
          "text": [
            "Epoch 1/100\n",
            "183/183 - 14s - loss: 1.9500 - acc: 0.3904 - val_loss: 1.3006 - val_acc: 0.5287 - 14s/epoch - 76ms/step\n",
            "Epoch 2/100\n",
            "183/183 - 1s - loss: 1.2548 - acc: 0.5042 - val_loss: 1.1516 - val_acc: 0.5281 - 1s/epoch - 8ms/step\n",
            "Epoch 3/100\n",
            "183/183 - 1s - loss: 1.1923 - acc: 0.5302 - val_loss: 1.1102 - val_acc: 0.5990 - 1s/epoch - 8ms/step\n",
            "Epoch 4/100\n",
            "183/183 - 1s - loss: 1.1684 - acc: 0.5333 - val_loss: 1.0931 - val_acc: 0.5830 - 1s/epoch - 8ms/step\n",
            "Epoch 5/100\n",
            "183/183 - 1s - loss: 1.1596 - acc: 0.5431 - val_loss: 1.0851 - val_acc: 0.5830 - 1s/epoch - 8ms/step\n",
            "Epoch 6/100\n",
            "183/183 - 1s - loss: 1.1569 - acc: 0.5360 - val_loss: 1.0791 - val_acc: 0.6009 - 1s/epoch - 8ms/step\n",
            "Epoch 7/100\n",
            "183/183 - 2s - loss: 1.1464 - acc: 0.5417 - val_loss: 1.0795 - val_acc: 0.6003 - 2s/epoch - 9ms/step\n",
            "Epoch 8/100\n",
            "183/183 - 2s - loss: 1.1373 - acc: 0.5593 - val_loss: 1.0725 - val_acc: 0.5990 - 2s/epoch - 10ms/step\n",
            "Epoch 9/100\n",
            "183/183 - 2s - loss: 1.1383 - acc: 0.5552 - val_loss: 1.0693 - val_acc: 0.6003 - 2s/epoch - 9ms/step\n",
            "Epoch 10/100\n",
            "183/183 - 1s - loss: 1.1230 - acc: 0.5639 - val_loss: 1.0680 - val_acc: 0.6003 - 1s/epoch - 8ms/step\n",
            "Epoch 11/100\n",
            "183/183 - 1s - loss: 1.1353 - acc: 0.5626 - val_loss: 1.0673 - val_acc: 0.6003 - 1s/epoch - 8ms/step\n",
            "Epoch 12/100\n",
            "183/183 - 2s - loss: 1.1218 - acc: 0.5554 - val_loss: 1.0695 - val_acc: 0.6009 - 2s/epoch - 9ms/step\n",
            "Epoch 13/100\n",
            "183/183 - 2s - loss: 1.1218 - acc: 0.5584 - val_loss: 1.0674 - val_acc: 0.5939 - 2s/epoch - 9ms/step\n",
            "Epoch 14/100\n",
            "183/183 - 1s - loss: 1.1172 - acc: 0.5710 - val_loss: 1.0676 - val_acc: 0.5939 - 1s/epoch - 8ms/step\n",
            "Epoch 15/100\n",
            "183/183 - 1s - loss: 1.1248 - acc: 0.5590 - val_loss: 1.0667 - val_acc: 0.6003 - 1s/epoch - 8ms/step\n",
            "Epoch 16/100\n",
            "183/183 - 2s - loss: 1.1160 - acc: 0.5658 - val_loss: 1.0669 - val_acc: 0.5939 - 2s/epoch - 9ms/step\n",
            "Epoch 17/100\n",
            "183/183 - 2s - loss: 1.1194 - acc: 0.5664 - val_loss: 1.0650 - val_acc: 0.6003 - 2s/epoch - 8ms/step\n",
            "Epoch 18/100\n",
            "183/183 - 1s - loss: 1.1141 - acc: 0.5697 - val_loss: 1.0658 - val_acc: 0.6003 - 1s/epoch - 8ms/step\n",
            "Epoch 19/100\n",
            "183/183 - 1s - loss: 1.1064 - acc: 0.5740 - val_loss: 1.0631 - val_acc: 0.6003 - 1s/epoch - 8ms/step\n",
            "Epoch 20/100\n",
            "183/183 - 1s - loss: 1.1121 - acc: 0.5691 - val_loss: 1.0667 - val_acc: 0.6003 - 1s/epoch - 8ms/step\n",
            "Epoch 21/100\n",
            "183/183 - 2s - loss: 1.1063 - acc: 0.5716 - val_loss: 1.0641 - val_acc: 0.6009 - 2s/epoch - 9ms/step\n",
            "Epoch 22/100\n",
            "183/183 - 2s - loss: 1.1121 - acc: 0.5672 - val_loss: 1.0641 - val_acc: 0.6009 - 2s/epoch - 9ms/step\n",
            "Epoch 23/100\n",
            "183/183 - 2s - loss: 1.1102 - acc: 0.5724 - val_loss: 1.0649 - val_acc: 0.6009 - 2s/epoch - 8ms/step\n",
            "Epoch 24/100\n",
            "183/183 - 1s - loss: 1.1041 - acc: 0.5776 - val_loss: 1.0635 - val_acc: 0.6022 - 1s/epoch - 8ms/step\n",
            "Epoch 25/100\n",
            "183/183 - 2s - loss: 1.1043 - acc: 0.5721 - val_loss: 1.0632 - val_acc: 0.6003 - 2s/epoch - 9ms/step\n",
            "Epoch 26/100\n",
            "183/183 - 2s - loss: 1.0988 - acc: 0.5812 - val_loss: 1.0616 - val_acc: 0.6003 - 2s/epoch - 9ms/step\n",
            "Epoch 27/100\n",
            "183/183 - 2s - loss: 1.1014 - acc: 0.5716 - val_loss: 1.0637 - val_acc: 0.6003 - 2s/epoch - 9ms/step\n",
            "Epoch 28/100\n",
            "183/183 - 2s - loss: 1.1037 - acc: 0.5724 - val_loss: 1.0599 - val_acc: 0.6003 - 2s/epoch - 9ms/step\n",
            "Epoch 29/100\n",
            "183/183 - 2s - loss: 1.1011 - acc: 0.5792 - val_loss: 1.0602 - val_acc: 0.6003 - 2s/epoch - 8ms/step\n",
            "Epoch 30/100\n",
            "183/183 - 2s - loss: 1.0995 - acc: 0.5812 - val_loss: 1.0618 - val_acc: 0.5983 - 2s/epoch - 8ms/step\n",
            "Epoch 31/100\n",
            "183/183 - 2s - loss: 1.0994 - acc: 0.5754 - val_loss: 1.0620 - val_acc: 0.6003 - 2s/epoch - 9ms/step\n",
            "Epoch 32/100\n",
            "183/183 - 1s - loss: 1.1026 - acc: 0.5765 - val_loss: 1.0663 - val_acc: 0.6015 - 1s/epoch - 8ms/step\n",
            "Epoch 33/100\n",
            "183/183 - 2s - loss: 1.0979 - acc: 0.5749 - val_loss: 1.0613 - val_acc: 0.6003 - 2s/epoch - 9ms/step\n",
            "Epoch 34/100\n",
            "183/183 - 1s - loss: 1.0929 - acc: 0.5831 - val_loss: 1.0612 - val_acc: 0.6003 - 1s/epoch - 8ms/step\n",
            "Epoch 35/100\n",
            "183/183 - 1s - loss: 1.1002 - acc: 0.5784 - val_loss: 1.0632 - val_acc: 0.6009 - 1s/epoch - 8ms/step\n",
            "Epoch 36/100\n",
            "183/183 - 1s - loss: 1.0936 - acc: 0.5790 - val_loss: 1.0614 - val_acc: 0.6003 - 1s/epoch - 8ms/step\n",
            "Epoch 37/100\n",
            "183/183 - 2s - loss: 1.1035 - acc: 0.5779 - val_loss: 1.0607 - val_acc: 0.6003 - 2s/epoch - 8ms/step\n",
            "Epoch 38/100\n",
            "183/183 - 2s - loss: 1.0967 - acc: 0.5771 - val_loss: 1.0609 - val_acc: 0.6009 - 2s/epoch - 8ms/step\n",
            "Epoch 39/100\n",
            "183/183 - 1s - loss: 1.0910 - acc: 0.5812 - val_loss: 1.0615 - val_acc: 0.6009 - 1s/epoch - 8ms/step\n",
            "Epoch 40/100\n",
            "183/183 - 2s - loss: 1.0999 - acc: 0.5771 - val_loss: 1.0606 - val_acc: 0.6003 - 2s/epoch - 9ms/step\n",
            "Epoch 41/100\n",
            "183/183 - 2s - loss: 1.0998 - acc: 0.5809 - val_loss: 1.0692 - val_acc: 0.5907 - 2s/epoch - 9ms/step\n",
            "Epoch 42/100\n",
            "183/183 - 1s - loss: 1.1103 - acc: 0.5719 - val_loss: 1.0627 - val_acc: 0.6022 - 1s/epoch - 8ms/step\n",
            "Epoch 43/100\n",
            "183/183 - 2s - loss: 1.1022 - acc: 0.5735 - val_loss: 1.0626 - val_acc: 0.6022 - 2s/epoch - 9ms/step\n",
            "Epoch 44/100\n",
            "183/183 - 1s - loss: 1.0992 - acc: 0.5828 - val_loss: 1.0608 - val_acc: 0.6003 - 1s/epoch - 8ms/step\n",
            "Epoch 45/100\n",
            "183/183 - 2s - loss: 1.0936 - acc: 0.5782 - val_loss: 1.0595 - val_acc: 0.6003 - 2s/epoch - 9ms/step\n",
            "Epoch 46/100\n",
            "183/183 - 1s - loss: 1.1008 - acc: 0.5754 - val_loss: 1.0602 - val_acc: 0.6003 - 1s/epoch - 8ms/step\n",
            "Epoch 47/100\n",
            "183/183 - 1s - loss: 1.0935 - acc: 0.5771 - val_loss: 1.0598 - val_acc: 0.6003 - 1s/epoch - 8ms/step\n",
            "Epoch 48/100\n",
            "183/183 - 2s - loss: 1.0960 - acc: 0.5828 - val_loss: 1.0602 - val_acc: 0.6003 - 2s/epoch - 9ms/step\n",
            "Epoch 49/100\n",
            "183/183 - 2s - loss: 1.0885 - acc: 0.5806 - val_loss: 1.0616 - val_acc: 0.6003 - 2s/epoch - 9ms/step\n",
            "Epoch 50/100\n",
            "183/183 - 1s - loss: 1.0900 - acc: 0.5809 - val_loss: 1.0603 - val_acc: 0.6003 - 1s/epoch - 8ms/step\n",
            "Epoch 51/100\n",
            "183/183 - 1s - loss: 1.0949 - acc: 0.5798 - val_loss: 1.0614 - val_acc: 0.6003 - 1s/epoch - 8ms/step\n",
            "Epoch 52/100\n",
            "183/183 - 2s - loss: 1.0944 - acc: 0.5771 - val_loss: 1.0607 - val_acc: 0.6003 - 2s/epoch - 9ms/step\n",
            "Epoch 53/100\n",
            "183/183 - 2s - loss: 1.0911 - acc: 0.5825 - val_loss: 1.0604 - val_acc: 0.6003 - 2s/epoch - 9ms/step\n",
            "Epoch 54/100\n",
            "183/183 - 2s - loss: 1.0949 - acc: 0.5853 - val_loss: 1.0600 - val_acc: 0.6003 - 2s/epoch - 9ms/step\n",
            "Epoch 55/100\n",
            "183/183 - 1s - loss: 1.0883 - acc: 0.5801 - val_loss: 1.0592 - val_acc: 0.6003 - 1s/epoch - 8ms/step\n",
            "Epoch 56/100\n",
            "183/183 - 2s - loss: 1.0874 - acc: 0.5839 - val_loss: 1.0609 - val_acc: 0.6009 - 2s/epoch - 9ms/step\n",
            "Epoch 57/100\n",
            "183/183 - 2s - loss: 1.0848 - acc: 0.5845 - val_loss: 1.0609 - val_acc: 0.6003 - 2s/epoch - 9ms/step\n",
            "Epoch 58/100\n",
            "183/183 - 2s - loss: 1.0924 - acc: 0.5831 - val_loss: 1.0637 - val_acc: 0.6015 - 2s/epoch - 9ms/step\n",
            "Epoch 59/100\n",
            "183/183 - 1s - loss: 1.0893 - acc: 0.5864 - val_loss: 1.0625 - val_acc: 0.6003 - 1s/epoch - 8ms/step\n",
            "Epoch 60/100\n",
            "183/183 - 2s - loss: 1.0911 - acc: 0.5861 - val_loss: 1.0616 - val_acc: 0.6003 - 2s/epoch - 9ms/step\n",
            "Epoch 61/100\n",
            "183/183 - 2s - loss: 1.0844 - acc: 0.5850 - val_loss: 1.0626 - val_acc: 0.6003 - 2s/epoch - 9ms/step\n",
            "Epoch 62/100\n",
            "183/183 - 2s - loss: 1.0965 - acc: 0.5806 - val_loss: 1.0605 - val_acc: 0.6003 - 2s/epoch - 9ms/step\n",
            "Epoch 63/100\n",
            "183/183 - 2s - loss: 1.0936 - acc: 0.5782 - val_loss: 1.0608 - val_acc: 0.6003 - 2s/epoch - 9ms/step\n",
            "Epoch 64/100\n",
            "183/183 - 1s - loss: 1.0910 - acc: 0.5823 - val_loss: 1.0608 - val_acc: 0.6009 - 1s/epoch - 8ms/step\n",
            "Epoch 65/100\n",
            "183/183 - 2s - loss: 1.0930 - acc: 0.5782 - val_loss: 1.0617 - val_acc: 0.6003 - 2s/epoch - 9ms/step\n",
            "Epoch 66/100\n",
            "183/183 - 2s - loss: 1.0901 - acc: 0.5779 - val_loss: 1.0615 - val_acc: 0.6003 - 2s/epoch - 9ms/step\n",
            "Epoch 67/100\n",
            "183/183 - 2s - loss: 1.0925 - acc: 0.5782 - val_loss: 1.0609 - val_acc: 0.6003 - 2s/epoch - 9ms/step\n",
            "Epoch 68/100\n",
            "183/183 - 1s - loss: 1.0875 - acc: 0.5828 - val_loss: 1.0610 - val_acc: 0.6003 - 1s/epoch - 8ms/step\n",
            "Epoch 69/100\n",
            "183/183 - 2s - loss: 1.0876 - acc: 0.5762 - val_loss: 1.0635 - val_acc: 0.6003 - 2s/epoch - 10ms/step\n",
            "Epoch 70/100\n",
            "183/183 - 2s - loss: 1.0897 - acc: 0.5866 - val_loss: 1.0628 - val_acc: 0.6003 - 2s/epoch - 9ms/step\n",
            "Epoch 71/100\n",
            "183/183 - 2s - loss: 1.0924 - acc: 0.5782 - val_loss: 1.0618 - val_acc: 0.6003 - 2s/epoch - 9ms/step\n",
            "Epoch 72/100\n",
            "183/183 - 2s - loss: 1.0841 - acc: 0.5823 - val_loss: 1.0630 - val_acc: 0.6003 - 2s/epoch - 9ms/step\n",
            "Epoch 73/100\n",
            "183/183 - 2s - loss: 1.0845 - acc: 0.5845 - val_loss: 1.0629 - val_acc: 0.6003 - 2s/epoch - 9ms/step\n",
            "Epoch 74/100\n",
            "183/183 - 1s - loss: 1.0871 - acc: 0.5782 - val_loss: 1.0626 - val_acc: 0.6003 - 1s/epoch - 8ms/step\n",
            "Epoch 75/100\n",
            "183/183 - 2s - loss: 1.0844 - acc: 0.5809 - val_loss: 1.0632 - val_acc: 0.6003 - 2s/epoch - 8ms/step\n",
            "Epoch 76/100\n",
            "183/183 - 2s - loss: 1.0869 - acc: 0.5872 - val_loss: 1.0627 - val_acc: 0.6003 - 2s/epoch - 8ms/step\n",
            "Epoch 77/100\n",
            "183/183 - 2s - loss: 1.0894 - acc: 0.5787 - val_loss: 1.0625 - val_acc: 0.6009 - 2s/epoch - 9ms/step\n",
            "Epoch 78/100\n",
            "183/183 - 2s - loss: 1.0836 - acc: 0.5861 - val_loss: 1.0621 - val_acc: 0.6003 - 2s/epoch - 8ms/step\n",
            "Epoch 79/100\n",
            "183/183 - 2s - loss: 1.0856 - acc: 0.5814 - val_loss: 1.0617 - val_acc: 0.6003 - 2s/epoch - 8ms/step\n",
            "Epoch 80/100\n",
            "183/183 - 2s - loss: 1.0860 - acc: 0.5798 - val_loss: 1.0628 - val_acc: 0.6009 - 2s/epoch - 9ms/step\n",
            "Epoch 81/100\n",
            "183/183 - 2s - loss: 1.0892 - acc: 0.5792 - val_loss: 1.0627 - val_acc: 0.6009 - 2s/epoch - 9ms/step\n",
            "Epoch 82/100\n",
            "183/183 - 1s - loss: 1.0834 - acc: 0.5839 - val_loss: 1.0620 - val_acc: 0.6003 - 1s/epoch - 8ms/step\n",
            "Epoch 83/100\n",
            "183/183 - 2s - loss: 1.0831 - acc: 0.5842 - val_loss: 1.0627 - val_acc: 0.6009 - 2s/epoch - 9ms/step\n",
            "Epoch 84/100\n",
            "183/183 - 2s - loss: 1.0839 - acc: 0.5812 - val_loss: 1.0632 - val_acc: 0.6003 - 2s/epoch - 8ms/step\n",
            "Epoch 85/100\n",
            "183/183 - 2s - loss: 1.0866 - acc: 0.5812 - val_loss: 1.0628 - val_acc: 0.6009 - 2s/epoch - 9ms/step\n",
            "Epoch 86/100\n",
            "183/183 - 2s - loss: 1.0869 - acc: 0.5850 - val_loss: 1.0637 - val_acc: 0.6009 - 2s/epoch - 9ms/step\n",
            "Epoch 87/100\n",
            "183/183 - 1s - loss: 1.0849 - acc: 0.5828 - val_loss: 1.0632 - val_acc: 0.6009 - 1s/epoch - 8ms/step\n",
            "Epoch 88/100\n",
            "183/183 - 2s - loss: 1.0872 - acc: 0.5845 - val_loss: 1.0650 - val_acc: 0.6003 - 2s/epoch - 8ms/step\n",
            "Epoch 89/100\n",
            "183/183 - 2s - loss: 1.0825 - acc: 0.5853 - val_loss: 1.0645 - val_acc: 0.6009 - 2s/epoch - 10ms/step\n",
            "Epoch 90/100\n",
            "183/183 - 1s - loss: 1.0856 - acc: 0.5845 - val_loss: 1.0657 - val_acc: 0.6009 - 1s/epoch - 8ms/step\n",
            "Epoch 91/100\n",
            "183/183 - 2s - loss: 1.0876 - acc: 0.5787 - val_loss: 1.0643 - val_acc: 0.6009 - 2s/epoch - 8ms/step\n",
            "Epoch 92/100\n",
            "183/183 - 2s - loss: 1.0849 - acc: 0.5839 - val_loss: 1.0661 - val_acc: 0.6009 - 2s/epoch - 8ms/step\n",
            "Epoch 93/100\n",
            "183/183 - 2s - loss: 1.0863 - acc: 0.5834 - val_loss: 1.0668 - val_acc: 0.6003 - 2s/epoch - 8ms/step\n",
            "Epoch 94/100\n",
            "183/183 - 2s - loss: 1.0839 - acc: 0.5845 - val_loss: 1.0654 - val_acc: 0.6009 - 2s/epoch - 8ms/step\n",
            "Epoch 95/100\n",
            "183/183 - 2s - loss: 1.0874 - acc: 0.5845 - val_loss: 1.0662 - val_acc: 0.6003 - 2s/epoch - 9ms/step\n",
            "Epoch 96/100\n",
            "183/183 - 2s - loss: 1.0839 - acc: 0.5839 - val_loss: 1.0650 - val_acc: 0.6009 - 2s/epoch - 8ms/step\n",
            "Epoch 97/100\n",
            "183/183 - 2s - loss: 1.0814 - acc: 0.5866 - val_loss: 1.0652 - val_acc: 0.6003 - 2s/epoch - 9ms/step\n",
            "Epoch 98/100\n",
            "183/183 - 2s - loss: 1.0800 - acc: 0.5814 - val_loss: 1.0649 - val_acc: 0.6009 - 2s/epoch - 8ms/step\n",
            "Epoch 99/100\n",
            "183/183 - 2s - loss: 1.0800 - acc: 0.5905 - val_loss: 1.0654 - val_acc: 0.6003 - 2s/epoch - 9ms/step\n",
            "Epoch 100/100\n",
            "183/183 - 2s - loss: 1.0842 - acc: 0.5877 - val_loss: 1.0642 - val_acc: 0.6003 - 2s/epoch - 8ms/step\n"
          ]
        }
      ],
      "source": [
        "# The LSTM architecture\n",
        "regressor = Sequential()\n",
        "# First LSTM layer with Dropout regularisation\n",
        "regressor.add(Bidirectional(LSTM(units=50, return_sequences=True, input_shape=(1,8))))\n",
        "regressor.add(Dropout(0.2))\n",
        "# Second LSTM layer\n",
        "regressor.add(LSTM(units=50, return_sequences=True))\n",
        "regressor.add(Dropout(0.2))\n",
        "# Third LSTM layer\n",
        "regressor.add(LSTM(units=50, return_sequences=True))\n",
        "regressor.add(Dropout(0.2))\n",
        "# Fourth LSTM layer\n",
        "regressor.add(LSTM(units=50))\n",
        "regressor.add(Dropout(0.2))\n",
        "# The output layer\n",
        "regressor.add(Dense(units=10,activation=\"softmax\"))\n",
        "\n",
        "# Compiling the RNN\n",
        "regressor.compile(tf.keras.optimizers.Adam(0.000333), \"categorical_crossentropy\", metrics=\"acc\")\n",
        "# Fitting to the training set\n",
        "history = regressor.fit(X_train_, y_train,validation_split=0.3, epochs=100, batch_size=20, verbose=2)"
      ]
    },
    {
      "cell_type": "code",
      "execution_count": null,
      "id": "ec37bbf6",
      "metadata": {
        "execution": {
          "iopub.execute_input": "2023-05-03T15:33:02.719159Z",
          "iopub.status.busy": "2023-05-03T15:33:02.718721Z",
          "iopub.status.idle": "2023-05-03T15:33:57.428114Z",
          "shell.execute_reply": "2023-05-03T15:33:57.426936Z"
        },
        "papermill": {
          "duration": 54.824705,
          "end_time": "2023-05-03T15:33:57.430557",
          "exception": false,
          "start_time": "2023-05-03T15:33:02.605852",
          "status": "completed"
        },
        "tags": [],
        "id": "ec37bbf6",
        "outputId": "6f5938c8-61e3-4f11-8af7-b4f5a416b87a"
      },
      "outputs": [
        {
          "name": "stdout",
          "output_type": "stream",
          "text": [
            "Epoch 1/25\n",
            "183/183 - 15s - loss: 0.0677 - accuracy: 0.4760 - val_loss: 0.0581 - val_accuracy: 0.5268 - 15s/epoch - 79ms/step\n",
            "Epoch 2/25\n",
            "183/183 - 2s - loss: 0.0600 - accuracy: 0.5382 - val_loss: 0.0557 - val_accuracy: 0.6022 - 2s/epoch - 9ms/step\n",
            "Epoch 3/25\n",
            "183/183 - 2s - loss: 0.0582 - accuracy: 0.5645 - val_loss: 0.0559 - val_accuracy: 0.5798 - 2s/epoch - 9ms/step\n",
            "Epoch 4/25\n",
            "183/183 - 2s - loss: 0.0579 - accuracy: 0.5653 - val_loss: 0.0550 - val_accuracy: 0.5888 - 2s/epoch - 9ms/step\n",
            "Epoch 5/25\n",
            "183/183 - 2s - loss: 0.0575 - accuracy: 0.5738 - val_loss: 0.0548 - val_accuracy: 0.5945 - 2s/epoch - 9ms/step\n",
            "Epoch 6/25\n",
            "183/183 - 2s - loss: 0.0571 - accuracy: 0.5746 - val_loss: 0.0543 - val_accuracy: 0.5945 - 2s/epoch - 10ms/step\n",
            "Epoch 7/25\n",
            "183/183 - 2s - loss: 0.0567 - accuracy: 0.5688 - val_loss: 0.0548 - val_accuracy: 0.5932 - 2s/epoch - 9ms/step\n",
            "Epoch 8/25\n",
            "183/183 - 2s - loss: 0.0563 - accuracy: 0.5721 - val_loss: 0.0550 - val_accuracy: 0.6028 - 2s/epoch - 9ms/step\n",
            "Epoch 9/25\n",
            "183/183 - 2s - loss: 0.0568 - accuracy: 0.5724 - val_loss: 0.0544 - val_accuracy: 0.5945 - 2s/epoch - 9ms/step\n",
            "Epoch 10/25\n",
            "183/183 - 2s - loss: 0.0566 - accuracy: 0.5688 - val_loss: 0.0542 - val_accuracy: 0.5728 - 2s/epoch - 9ms/step\n",
            "Epoch 11/25\n",
            "183/183 - 2s - loss: 0.0564 - accuracy: 0.5792 - val_loss: 0.0541 - val_accuracy: 0.5958 - 2s/epoch - 9ms/step\n",
            "Epoch 12/25\n",
            "183/183 - 2s - loss: 0.0558 - accuracy: 0.5790 - val_loss: 0.0539 - val_accuracy: 0.5971 - 2s/epoch - 9ms/step\n",
            "Epoch 13/25\n",
            "183/183 - 2s - loss: 0.0558 - accuracy: 0.5853 - val_loss: 0.0544 - val_accuracy: 0.6009 - 2s/epoch - 10ms/step\n",
            "Epoch 14/25\n",
            "183/183 - 2s - loss: 0.0560 - accuracy: 0.5724 - val_loss: 0.0541 - val_accuracy: 0.5728 - 2s/epoch - 8ms/step\n",
            "Epoch 15/25\n",
            "183/183 - 2s - loss: 0.0559 - accuracy: 0.5792 - val_loss: 0.0541 - val_accuracy: 0.5754 - 2s/epoch - 9ms/step\n",
            "Epoch 16/25\n",
            "183/183 - 2s - loss: 0.0556 - accuracy: 0.5801 - val_loss: 0.0541 - val_accuracy: 0.5971 - 2s/epoch - 9ms/step\n",
            "Epoch 17/25\n",
            "183/183 - 2s - loss: 0.0556 - accuracy: 0.5790 - val_loss: 0.0540 - val_accuracy: 0.5754 - 2s/epoch - 9ms/step\n",
            "Epoch 18/25\n",
            "183/183 - 2s - loss: 0.0556 - accuracy: 0.5795 - val_loss: 0.0543 - val_accuracy: 0.5971 - 2s/epoch - 9ms/step\n",
            "Epoch 19/25\n",
            "183/183 - 2s - loss: 0.0559 - accuracy: 0.5710 - val_loss: 0.0538 - val_accuracy: 0.5964 - 2s/epoch - 9ms/step\n",
            "Epoch 20/25\n",
            "183/183 - 2s - loss: 0.0554 - accuracy: 0.5828 - val_loss: 0.0540 - val_accuracy: 0.5990 - 2s/epoch - 10ms/step\n",
            "Epoch 21/25\n",
            "183/183 - 2s - loss: 0.0556 - accuracy: 0.5847 - val_loss: 0.0538 - val_accuracy: 0.5958 - 2s/epoch - 9ms/step\n",
            "Epoch 22/25\n",
            "183/183 - 2s - loss: 0.0553 - accuracy: 0.5853 - val_loss: 0.0541 - val_accuracy: 0.6003 - 2s/epoch - 9ms/step\n",
            "Epoch 23/25\n",
            "183/183 - 2s - loss: 0.0554 - accuracy: 0.5883 - val_loss: 0.0537 - val_accuracy: 0.5990 - 2s/epoch - 9ms/step\n",
            "Epoch 24/25\n",
            "183/183 - 2s - loss: 0.0554 - accuracy: 0.5850 - val_loss: 0.0537 - val_accuracy: 0.5964 - 2s/epoch - 9ms/step\n",
            "Epoch 25/25\n",
            "183/183 - 2s - loss: 0.0553 - accuracy: 0.5872 - val_loss: 0.0536 - val_accuracy: 0.5964 - 2s/epoch - 9ms/step\n"
          ]
        }
      ],
      "source": [
        "# The LSTM architecture\n",
        "regressor = Sequential()\n",
        "# First LSTM layer with Dropout regularisation\n",
        "regressor.add(Bidirectional(LSTM(units=50, return_sequences=True, input_shape=(1,8))))\n",
        "regressor.add(Dropout(0.2))\n",
        "# Second LSTM layer\n",
        "regressor.add(LSTM(units=50, return_sequences=True))\n",
        "regressor.add(Dropout(0.2))\n",
        "# Third LSTM layer\n",
        "regressor.add(LSTM(units=50, return_sequences=True))\n",
        "regressor.add(Dropout(0.2))\n",
        "# Fourth LSTM layer\n",
        "regressor.add(LSTM(units=50))\n",
        "regressor.add(Dropout(0.2))\n",
        "# The output layer\n",
        "regressor.add(Dense(units=10))\n",
        "\n",
        "# Compiling the RNN\n",
        "regressor.compile(optimizer='adam',loss='mean_squared_error', metrics=['accuracy'])\n",
        "# Fitting to the training set\n",
        "history = regressor.fit(X_train_, y_train,validation_split=0.3, epochs=25, batch_size=20, verbose=2)"
      ]
    },
    {
      "cell_type": "code",
      "execution_count": null,
      "id": "caa937d6",
      "metadata": {
        "execution": {
          "iopub.execute_input": "2023-05-03T15:33:57.662403Z",
          "iopub.status.busy": "2023-05-03T15:33:57.661844Z",
          "iopub.status.idle": "2023-05-03T15:33:57.698006Z",
          "shell.execute_reply": "2023-05-03T15:33:57.696739Z"
        },
        "papermill": {
          "duration": 0.154367,
          "end_time": "2023-05-03T15:33:57.700548",
          "exception": false,
          "start_time": "2023-05-03T15:33:57.546181",
          "status": "completed"
        },
        "tags": [],
        "id": "caa937d6",
        "outputId": "ff8faa16-6857-49d6-840d-2255d59eda8e"
      },
      "outputs": [
        {
          "name": "stdout",
          "output_type": "stream",
          "text": [
            "Model: \"sequential_1\"\n",
            "_________________________________________________________________\n",
            " Layer (type)                Output Shape              Param #   \n",
            "=================================================================\n",
            " bidirectional_1 (Bidirectio  (None, 1, 100)           23600     \n",
            " nal)                                                            \n",
            "                                                                 \n",
            " dropout_6 (Dropout)         (None, 1, 100)            0         \n",
            "                                                                 \n",
            " lstm_5 (LSTM)               (None, 1, 50)             30200     \n",
            "                                                                 \n",
            " dropout_7 (Dropout)         (None, 1, 50)             0         \n",
            "                                                                 \n",
            " lstm_6 (LSTM)               (None, 1, 50)             20200     \n",
            "                                                                 \n",
            " dropout_8 (Dropout)         (None, 1, 50)             0         \n",
            "                                                                 \n",
            " lstm_7 (LSTM)               (None, 50)                20200     \n",
            "                                                                 \n",
            " dropout_9 (Dropout)         (None, 50)                0         \n",
            "                                                                 \n",
            " dense_4 (Dense)             (None, 10)                510       \n",
            "                                                                 \n",
            "=================================================================\n",
            "Total params: 94,710\n",
            "Trainable params: 94,710\n",
            "Non-trainable params: 0\n",
            "_________________________________________________________________\n"
          ]
        }
      ],
      "source": [
        "regressor.summary()"
      ]
    },
    {
      "cell_type": "code",
      "execution_count": null,
      "id": "059b0179",
      "metadata": {
        "execution": {
          "iopub.execute_input": "2023-05-03T15:33:57.934156Z",
          "iopub.status.busy": "2023-05-03T15:33:57.933796Z",
          "iopub.status.idle": "2023-05-03T15:33:57.940302Z",
          "shell.execute_reply": "2023-05-03T15:33:57.939279Z"
        },
        "papermill": {
          "duration": 0.125537,
          "end_time": "2023-05-03T15:33:57.942309",
          "exception": false,
          "start_time": "2023-05-03T15:33:57.816772",
          "status": "completed"
        },
        "tags": [],
        "id": "059b0179",
        "outputId": "67309f75-a21f-4e97-d93e-fcf3064f18e4"
      },
      "outputs": [
        {
          "data": {
            "text/plain": [
              "dict_keys(['loss', 'accuracy', 'val_loss', 'val_accuracy'])"
            ]
          },
          "execution_count": 19,
          "metadata": {},
          "output_type": "execute_result"
        }
      ],
      "source": [
        "history.history.keys()"
      ]
    },
    {
      "cell_type": "code",
      "execution_count": null,
      "id": "b199d2d6",
      "metadata": {
        "execution": {
          "iopub.execute_input": "2023-05-03T15:33:58.208423Z",
          "iopub.status.busy": "2023-05-03T15:33:58.207987Z",
          "iopub.status.idle": "2023-05-03T15:33:58.214173Z",
          "shell.execute_reply": "2023-05-03T15:33:58.213197Z"
        },
        "papermill": {
          "duration": 0.12742,
          "end_time": "2023-05-03T15:33:58.216726",
          "exception": false,
          "start_time": "2023-05-03T15:33:58.089306",
          "status": "completed"
        },
        "tags": [],
        "id": "b199d2d6",
        "outputId": "00a3b5dd-8843-4284-96d5-22e91519a8c6"
      },
      "outputs": [
        {
          "name": "stdout",
          "output_type": "stream",
          "text": [
            "0.5717054438591004\n",
            "0.5897828841209412\n",
            "0.05678953781723976\n",
            "0.054476833939552306\n"
          ]
        }
      ],
      "source": [
        "\n",
        "print(np.mean(history.history['accuracy']))\n",
        "print(np.mean(history.history['val_accuracy']))\n",
        "\n",
        "print(np.mean(history.history['loss']))\n",
        "print(np.mean(history.history['val_loss']))"
      ]
    },
    {
      "cell_type": "code",
      "execution_count": null,
      "id": "0359c64a",
      "metadata": {
        "execution": {
          "iopub.execute_input": "2023-05-03T15:33:58.450104Z",
          "iopub.status.busy": "2023-05-03T15:33:58.449307Z",
          "iopub.status.idle": "2023-05-03T15:33:58.706494Z",
          "shell.execute_reply": "2023-05-03T15:33:58.705382Z"
        },
        "papermill": {
          "duration": 0.376673,
          "end_time": "2023-05-03T15:33:58.708973",
          "exception": false,
          "start_time": "2023-05-03T15:33:58.332300",
          "status": "completed"
        },
        "tags": [],
        "id": "0359c64a",
        "outputId": "9bd4cbfa-2c48-4cf4-f09a-2d1c5d14f63f"
      },
      "outputs": [
        {
          "data": {
            "image/png": "[encoded data removed]",
            "text/plain": [
              "<Figure size 640x480 with 1 Axes>"
            ]
          },
          "metadata": {},
          "output_type": "display_data"
        }
      ],
      "source": [
        "plt.plot(history.history['accuracy'])\n",
        "plt.plot(history.history['val_accuracy'])\n",
        "plt.title('model accuracy')\n",
        "plt.ylabel('accuracy')\n",
        "plt.xlabel('epoch')\n",
        "plt.legend(['train', 'val'], loc='upper left')\n",
        "plt.show()"
      ]
    },
    {
      "cell_type": "code",
      "execution_count": null,
      "id": "b3a90c7e",
      "metadata": {
        "execution": {
          "iopub.execute_input": "2023-05-03T15:33:58.947202Z",
          "iopub.status.busy": "2023-05-03T15:33:58.946738Z",
          "iopub.status.idle": "2023-05-03T15:33:59.215009Z",
          "shell.execute_reply": "2023-05-03T15:33:59.214144Z"
        },
        "papermill": {
          "duration": 0.389438,
          "end_time": "2023-05-03T15:33:59.217204",
          "exception": false,
          "start_time": "2023-05-03T15:33:58.827766",
          "status": "completed"
        },
        "tags": [],
        "id": "b3a90c7e",
        "outputId": "ab433b13-ea48-455b-b264-f08c20372f6a"
      },
      "outputs": [
        {
          "data": {
            "image/png": "[encoded data removed]",
            "text/plain": [
              "<Figure size 640x480 with 1 Axes>"
            ]
          },
          "metadata": {},
          "output_type": "display_data"
        }
      ],
      "source": [
        "plt.plot(history.history['loss'])\n",
        "plt.plot(history.history['val_loss'])\n",
        "plt.title('model loss')\n",
        "plt.ylabel('loss')\n",
        "plt.xlabel('epoch')\n",
        "plt.legend(['train', 'val'], loc='upper left')\n",
        "plt.show()"
      ]
    },
    {
      "cell_type": "code",
      "execution_count": null,
      "id": "6693974a",
      "metadata": {
        "execution": {
          "iopub.execute_input": "2023-05-03T15:33:59.451676Z",
          "iopub.status.busy": "2023-05-03T15:33:59.450583Z",
          "iopub.status.idle": "2023-05-03T15:34:02.425320Z",
          "shell.execute_reply": "2023-05-03T15:34:02.424174Z"
        },
        "papermill": {
          "duration": 3.094208,
          "end_time": "2023-05-03T15:34:02.428067",
          "exception": false,
          "start_time": "2023-05-03T15:33:59.333859",
          "status": "completed"
        },
        "tags": [],
        "id": "6693974a",
        "outputId": "4f224a4c-a594-4396-9fc8-8bb4c088356e"
      },
      "outputs": [
        {
          "name": "stdout",
          "output_type": "stream",
          "text": [
            "81/81 [==============================] - 3s 3ms/step\n"
          ]
        }
      ],
      "source": [
        "lstm_reslt = regressor.predict(X_test_)"
      ]
    },
    {
      "cell_type": "code",
      "execution_count": null,
      "id": "8fea79ce",
      "metadata": {
        "execution": {
          "iopub.execute_input": "2023-05-03T15:34:02.673788Z",
          "iopub.status.busy": "2023-05-03T15:34:02.672694Z",
          "iopub.status.idle": "2023-05-03T15:34:02.680606Z",
          "shell.execute_reply": "2023-05-03T15:34:02.678944Z"
        },
        "papermill": {
          "duration": 0.135297,
          "end_time": "2023-05-03T15:34:02.683649",
          "exception": false,
          "start_time": "2023-05-03T15:34:02.548352",
          "status": "completed"
        },
        "tags": [],
        "id": "8fea79ce",
        "outputId": "a95310e3-29f2-40e4-d400-e9a748280c96"
      },
      "outputs": [
        {
          "name": "stdout",
          "output_type": "stream",
          "text": [
            "[2.1623849e-04 4.7147304e-01 7.0874987e-05 2.2410767e-01 1.2502740e-01\n",
            " 4.6257682e-09 6.1852259e-12 2.6715908e-02 2.6382096e-03 1.5546650e-01]\n",
            "1\n",
            "0.47147304\n"
          ]
        }
      ],
      "source": [
        "print(lstm_reslt[0]) # probablities of each class for 1st row \n",
        "print(np.argmax(lstm_reslt[0])) # max prob predicted  class is 1 \n",
        "print(np.max(lstm_reslt[0])) # with 0.49 predicted % "
      ]
    },
    {
      "cell_type": "code",
      "execution_count": null,
      "id": "51b66c5c",
      "metadata": {
        "papermill": {
          "duration": 0.116319,
          "end_time": "2023-05-03T15:34:02.918586",
          "exception": false,
          "start_time": "2023-05-03T15:34:02.802267",
          "status": "completed"
        },
        "tags": [],
        "id": "51b66c5c"
      },
      "outputs": [],
      "source": []
    }
  ],
  "metadata": {
    "kernelspec": {
      "display_name": "Python 3",
      "language": "python",
      "name": "python3"
    },
    "language_info": {
      "codemirror_mode": {
        "name": "ipython",
        "version": 3
      },
      "file_extension": ".py",
      "mimetype": "text/x-python",
      "name": "python",
      "nbconvert_exporter": "python",
      "pygments_lexer": "ipython3",
      "version": "3.10.10"
    },
    "papermill": {
      "default_parameters": {},
      "duration": 381.803739,
      "end_time": "2023-05-03T15:34:06.093111",
      "environment_variables": {},
      "exception": null,
      "input_path": "__notebook__.ipynb",
      "output_path": "__notebook__.ipynb",
      "parameters": {},
      "start_time": "2023-05-03T15:27:44.289372",
      "version": "2.4.0"
    },
    "colab": {
      "provenance": []
    }
  },
  "nbformat": 4,
  "nbformat_minor": 5
}